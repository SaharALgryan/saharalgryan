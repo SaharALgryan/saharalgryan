{
  "cells": [
    {
      "cell_type": "markdown",
      "metadata": {
        "id": "view-in-github",
        "colab_type": "text"
      },
      "source": [
        "<a href=\"https://colab.research.google.com/github/SaharALgryan/saharalgryan/blob/main/Introduction_to_Python_.ipynb\" target=\"_parent\"><img src=\"https://colab.research.google.com/assets/colab-badge.svg\" alt=\"Open In Colab\"/></a>"
      ]
    },
    {
      "cell_type": "markdown",
      "metadata": {
        "id": "AS2MtKIiMuQ0"
      },
      "source": [
        "#Introduction to Python\n",
        "\n",
        "In this labsheet we will cover basics of python. Here is your checklist:\n",
        "\n",
        "\n",
        "*   Variables\n",
        "*   Data Structures\n",
        "*   Decision Statements\n",
        "*   Loops\n",
        "*   Methods\n",
        "\n",
        "\n",
        "\n",
        "\n",
        "\n"
      ]
    },
    {
      "cell_type": "markdown",
      "metadata": {
        "id": "2E1d8ckfNbgR"
      },
      "source": [
        "\n",
        "## Printing\n",
        "\n",
        "Hit Shift + Enter to run the code in each of the following cells!\n"
      ]
    },
    {
      "cell_type": "code",
      "execution_count": 14,
      "metadata": {
        "id": "GnAsDPgONjSp",
        "colab": {
          "base_uri": "https://localhost:8080/"
        },
        "outputId": "33b4d183-aa3f-453a-8c6e-c17cc21220b1"
      },
      "outputs": [
        {
          "output_type": "execute_result",
          "data": {
            "text/plain": [
              "4"
            ]
          },
          "metadata": {},
          "execution_count": 14
        }
      ],
      "source": [
        "2+2 Nasser1@"
      ]
    },
    {
      "cell_type": "code",
      "execution_count": 15,
      "metadata": {
        "id": "nfHqfDCuNmnn",
        "colab": {
          "base_uri": "https://localhost:8080/"
        },
        "outputId": "64612ef0-5fe9-4fe2-8574-50b8b2247039"
      },
      "outputs": [
        {
          "output_type": "stream",
          "name": "stdout",
          "text": [
            "4\n"
          ]
        }
      ],
      "source": [
        "print(2+2)"
      ]
    },
    {
      "cell_type": "code",
      "execution_count": 16,
      "metadata": {
        "id": "ZcvMqB5NNovx",
        "colab": {
          "base_uri": "https://localhost:8080/"
        },
        "outputId": "52158edc-57be-47b5-d893-76fa7735b689"
      },
      "outputs": [
        {
          "output_type": "stream",
          "name": "stdout",
          "text": [
            "Hello World!\n"
          ]
        }
      ],
      "source": [
        "print('Hello World!')"
      ]
    },
    {
      "cell_type": "code",
      "execution_count": 17,
      "metadata": {
        "id": "XgB2Bhj0Nv8n",
        "colab": {
          "base_uri": "https://localhost:8080/"
        },
        "outputId": "95054e9a-b6cc-4b50-f563-6f965ebcedcc"
      },
      "outputs": [
        {
          "output_type": "stream",
          "name": "stdout",
          "text": [
            "Hello World !\n"
          ]
        }
      ],
      "source": [
        "print('Hello World','!')"
      ]
    },
    {
      "cell_type": "code",
      "execution_count": 18,
      "metadata": {
        "id": "idHXXd_YOTUh",
        "colab": {
          "base_uri": "https://localhost:8080/"
        },
        "outputId": "91e82064-576a-4fff-83a0-9564a2b6fc2a"
      },
      "outputs": [
        {
          "output_type": "stream",
          "name": "stdout",
          "text": [
            "HelloWorld\n"
          ]
        }
      ],
      "source": [
        "print('Hello' + 'World')"
      ]
    },
    {
      "cell_type": "code",
      "execution_count": 19,
      "metadata": {
        "id": "tWzfFXmlN3nT",
        "colab": {
          "base_uri": "https://localhost:8080/"
        },
        "outputId": "4522f18a-965b-46a3-d2cf-84a98f269e44"
      },
      "outputs": [
        {
          "output_type": "stream",
          "name": "stdout",
          "text": [
            "Hello World! This is 1 Python Introduction\n"
          ]
        }
      ],
      "source": [
        "print('Hello World! This is', 0+1 , 'Python Introduction')"
      ]
    },
    {
      "cell_type": "code",
      "execution_count": 20,
      "metadata": {
        "id": "ZAUR_xSSOZ_s",
        "colab": {
          "base_uri": "https://localhost:8080/"
        },
        "outputId": "fef6d5e4-6906-4c47-c03e-18f700039907"
      },
      "outputs": [
        {
          "output_type": "stream",
          "name": "stdout",
          "text": [
            "Hello World5\n"
          ]
        }
      ],
      "source": [
        "print('Hello World'+ str(5))"
      ]
    },
    {
      "cell_type": "markdown",
      "metadata": {
        "id": "83y4UrhUOnGL"
      },
      "source": [
        "## 1.1. Variables\n",
        "Variables used to store data that can be used later.\n",
        "\n",
        "**Example:**\n",
        "Product information, e.g., laptop, include price, brand, and wether it is sold.\n"
      ]
    },
    {
      "cell_type": "code",
      "execution_count": 21,
      "metadata": {
        "id": "v9mGHHuWPRy7"
      },
      "outputs": [],
      "source": [
        "price = 5600.89\n",
        "brand = 'Apple'\n",
        "sold = True\n",
        "\n"
      ]
    },
    {
      "cell_type": "markdown",
      "metadata": {
        "id": "lY1Ri6n4PpnN"
      },
      "source": [
        "\n",
        "✅ Print the price and the brand of the laptop.\n"
      ]
    },
    {
      "cell_type": "code",
      "execution_count": 22,
      "metadata": {
        "id": "eRGRaatfQHaU",
        "colab": {
          "base_uri": "https://localhost:8080/"
        },
        "outputId": "13b890d6-9977-4918-8c04-540cd7fb555f"
      },
      "outputs": [
        {
          "output_type": "stream",
          "name": "stdout",
          "text": [
            "5600.89 Apple\n"
          ]
        }
      ],
      "source": [
        "# write the print statement\n",
        "print(price,brand)\n"
      ]
    },
    {
      "cell_type": "markdown",
      "metadata": {
        "id": "o-VqmwZGQm5M"
      },
      "source": [
        "You can find the data type of the variable using type method as follows:"
      ]
    },
    {
      "cell_type": "code",
      "execution_count": 23,
      "metadata": {
        "id": "ZOnVOl9MQuEf",
        "colab": {
          "base_uri": "https://localhost:8080/"
        },
        "outputId": "ef8d419e-1b3e-4506-e500-30d5ccbea5e3"
      },
      "outputs": [
        {
          "output_type": "execute_result",
          "data": {
            "text/plain": [
              "bool"
            ]
          },
          "metadata": {},
          "execution_count": 23
        }
      ],
      "source": [
        "type(price)\n",
        "\n",
        "type(brand)\n",
        "\n",
        "type(sold)"
      ]
    },
    {
      "cell_type": "markdown",
      "metadata": {
        "id": "iTBnpc5PRCVN"
      },
      "source": [
        "\n",
        "✅ Assume that the customer bought three laptops, print the total bill amount.\n",
        "\n",
        "✅ Assume that a loylty customer bought 1 laptop, and had a 15% discount, print the total bill amount"
      ]
    },
    {
      "cell_type": "code",
      "execution_count": 24,
      "metadata": {
        "id": "6vWVQBc_RLcw",
        "colab": {
          "base_uri": "https://localhost:8080/"
        },
        "outputId": "a395399b-b430-4a05-e08e-918872a9acf5"
      },
      "outputs": [
        {
          "output_type": "stream",
          "name": "stdout",
          "text": [
            "16802.670000000002\n"
          ]
        }
      ],
      "source": [
        "# write the total bill statement\n",
        "Laptob=3\n",
        "print(Laptob*price)\n",
        "\n"
      ]
    },
    {
      "cell_type": "markdown",
      "metadata": {
        "id": "uHtOqb44R_Qj"
      },
      "source": [
        "You can change the type of a variable using builtin functions, e.g.,\n",
        "\n",
        " int() -> change data type to integer\n",
        "\n",
        " str() -> change data type to string\n",
        "\n",
        "\n",
        "✅ Using str() to fix the statement below.\n"
      ]
    },
    {
      "cell_type": "code",
      "execution_count": 25,
      "metadata": {
        "id": "5g6rnX62SOo5",
        "colab": {
          "base_uri": "https://localhost:8080/"
        },
        "outputId": "a4bbfa3c-83d4-4bb2-ce4e-75a820733b0b"
      },
      "outputs": [
        {
          "output_type": "stream",
          "name": "stdout",
          "text": [
            "Hello World5\n"
          ]
        }
      ],
      "source": [
        "print('Hello World'+str(5))"
      ]
    },
    {
      "cell_type": "markdown",
      "metadata": {
        "id": "GA7ZUWmbSx8c"
      },
      "source": [
        "# Data Structures\n",
        "\n",
        "Assume the dataset is as follows:\n",
        "\n",
        "\n",
        "```\n",
        "Brand        Price      Sold\n",
        "\n",
        "Apple        5870       TRUE\n",
        "\n",
        "Huawi        3004       TRUE\n",
        "\n",
        "Samsung      4870       FALSE\n",
        "\n",
        "Sony         2070       TRUE\n",
        "```\n",
        "\n",
        "\n"
      ]
    },
    {
      "cell_type": "code",
      "execution_count": 26,
      "metadata": {
        "id": "ts9VwMhhsAKN"
      },
      "outputs": [],
      "source": [
        "# Create a list for each column in the dataset as follows:\n",
        "\n",
        "brand_list = ['Apple', 'Huawi', 'Samsung', 'Sony']\n",
        "price_list = [5870,3004,4870,2070]\n"
      ]
    },
    {
      "cell_type": "markdown",
      "metadata": {
        "id": "aJjIgI3msnLF"
      },
      "source": [
        "✅ Your turn, create a list for the *Sold* column."
      ]
    },
    {
      "cell_type": "code",
      "execution_count": 27,
      "metadata": {
        "id": "43Nk9XHEsvyS",
        "colab": {
          "base_uri": "https://localhost:8080/"
        },
        "outputId": "3bd42b5c-d653-4eaf-89c0-8e9be43d3d47"
      },
      "outputs": [
        {
          "output_type": "stream",
          "name": "stdout",
          "text": [
            "[True, True, False, True]\n"
          ]
        }
      ],
      "source": [
        "sold_list=[True,True,False,True]\n",
        "print(sold_list)"
      ]
    },
    {
      "cell_type": "markdown",
      "metadata": {
        "id": "1xn6WjG-tPcd"
      },
      "source": [
        "✅ Print each list using print statement.\n"
      ]
    },
    {
      "cell_type": "code",
      "execution_count": 28,
      "metadata": {
        "id": "0CA8OhLhtUG1",
        "colab": {
          "base_uri": "https://localhost:8080/"
        },
        "outputId": "b348f368-258c-49e4-f88d-50f0aa8fffe5"
      },
      "outputs": [
        {
          "output_type": "stream",
          "name": "stdout",
          "text": [
            "['Apple', 'Huawi', 'Samsung', 'Sony']\n",
            "[5870, 3004, 4870, 2070]\n",
            "[True, True, False, True]\n"
          ]
        }
      ],
      "source": [
        "print(brand_list)\n",
        "print(price_list)\n",
        "print(sold_list)"
      ]
    },
    {
      "cell_type": "markdown",
      "metadata": {
        "id": "MOcrs242tVkR"
      },
      "source": [
        "To find the length of each list use the len() function. For example,\n",
        "\n",
        "\n",
        "```\n",
        "len(brand_list)\n",
        "```\n",
        "\n"
      ]
    },
    {
      "cell_type": "code",
      "execution_count": 29,
      "metadata": {
        "id": "mThXygJMt7Ho",
        "colab": {
          "base_uri": "https://localhost:8080/"
        },
        "outputId": "9163bb3e-8020-40cc-8703-b86709b192bd"
      },
      "outputs": [
        {
          "output_type": "stream",
          "name": "stdout",
          "text": [
            "4\n"
          ]
        }
      ],
      "source": [
        "# write your code to find the number of records in each list\n",
        "print(len(brand_list))\n",
        "\n",
        "\n",
        "\n"
      ]
    },
    {
      "cell_type": "markdown",
      "metadata": {
        "id": "x221EHyot5yH"
      },
      "source": [
        "\n",
        "Similarly, you can find the minimum and maximum values using the min() and max() function, respecitvly.\n",
        "\n",
        "✅ Find the minimum and maximum value of each attribute in the dataset. Pring the values for each attribute.\n",
        "\n"
      ]
    },
    {
      "cell_type": "code",
      "execution_count": 30,
      "metadata": {
        "id": "n4p0wIQhtlaQ",
        "colab": {
          "base_uri": "https://localhost:8080/"
        },
        "outputId": "9f0d3b52-456c-4a5a-e3b7-6d4e08c69b7f"
      },
      "outputs": [
        {
          "output_type": "stream",
          "name": "stdout",
          "text": [
            "2070\n",
            "5870\n"
          ]
        }
      ],
      "source": [
        "print(min(price_list))\n",
        "print(max(price_list))"
      ]
    },
    {
      "cell_type": "markdown",
      "metadata": {
        "id": "EeMXJj_ZusTf"
      },
      "source": [
        "✅ Print the price of the second laptop. Remember that Python start at index 0.\n",
        "\n",
        "> Indented block\n",
        "\n"
      ]
    },
    {
      "cell_type": "code",
      "execution_count": 31,
      "metadata": {
        "id": "_badstoVvM9r",
        "colab": {
          "base_uri": "https://localhost:8080/"
        },
        "outputId": "6e5ee934-a24b-456f-f218-6ace1b5aeb23"
      },
      "outputs": [
        {
          "output_type": "stream",
          "name": "stdout",
          "text": [
            "3004\n"
          ]
        }
      ],
      "source": [
        "print(price_list[1])\n",
        "\n"
      ]
    },
    {
      "cell_type": "markdown",
      "metadata": {
        "id": "2vm4EU2J5y7I"
      },
      "source": [
        "✅ Print the prices from the second laptop til the last using colon (:)\n",
        "\n"
      ]
    },
    {
      "cell_type": "code",
      "execution_count": 32,
      "metadata": {
        "id": "I49_SykE6FwC",
        "colab": {
          "base_uri": "https://localhost:8080/"
        },
        "outputId": "cd02a983-dd54-45c0-e15f-9771059a8f26"
      },
      "outputs": [
        {
          "output_type": "stream",
          "name": "stdout",
          "text": [
            "[3004, 4870, 2070]\n"
          ]
        }
      ],
      "source": [
        "#write the code\n",
        "print(price_list[1:])\n"
      ]
    },
    {
      "cell_type": "markdown",
      "metadata": {
        "id": "Qni4oYxJ6Jx5"
      },
      "source": [
        "✅ Remove the last element of the brand list using the pop() function.\n",
        "\n",
        "✅ Print the list\n",
        "\n",
        "✅ Insert brand 'Dell' to the brand list using append() function\n",
        "\n",
        "✅ Print the list"
      ]
    },
    {
      "cell_type": "code",
      "execution_count": 33,
      "metadata": {
        "id": "z1eJVCwyMmOw",
        "colab": {
          "base_uri": "https://localhost:8080/"
        },
        "outputId": "b7c4259a-5248-40ac-aafb-de2f379ff75b"
      },
      "outputs": [
        {
          "output_type": "stream",
          "name": "stdout",
          "text": [
            "Sony\n",
            "['Apple', 'Huawi', 'Samsung']\n",
            "None\n",
            "['Apple', 'Huawi', 'Samsung', 'DELL']\n"
          ]
        }
      ],
      "source": [
        "#Remove the last element of the brand list\n",
        "print(brand_list.pop())\n",
        "#print the list\n",
        "print(brand_list)\n",
        "\n",
        "#Insert brand 'Dell' to the brand list\n",
        "print(brand_list.append('DELL'))\n",
        "print(brand_list)\n",
        "\n",
        "\n",
        "#print the list\n",
        "\n",
        "\n",
        "\n"
      ]
    },
    {
      "cell_type": "markdown",
      "metadata": {
        "id": "donjuQvBNY7v"
      },
      "source": [
        "## Tuple\n",
        "\n",
        "Assuming you need data not to be altered!\n",
        " Similar to lists, you can add item, however, they cannot be amended.\n",
        "\n",
        "Let's say you need to add storage specifcation to all laptops.\n",
        "\n"
      ]
    },
    {
      "cell_type": "code",
      "execution_count": 34,
      "metadata": {
        "id": "Yam1cLqWGf6j"
      },
      "outputs": [],
      "source": [
        "storage = (746,383,919,111)"
      ]
    },
    {
      "cell_type": "markdown",
      "metadata": {
        "id": "LkaEI_P8GleM"
      },
      "source": [
        "Now, let's print the storage of the third laptop.\n",
        "\n",
        "\n"
      ]
    },
    {
      "cell_type": "code",
      "execution_count": 35,
      "metadata": {
        "id": "SuSg1mTWHJvC",
        "colab": {
          "base_uri": "https://localhost:8080/"
        },
        "outputId": "881af367-7926-4f4a-f3b5-860908dc67dd"
      },
      "outputs": [
        {
          "output_type": "stream",
          "name": "stdout",
          "text": [
            "919\n"
          ]
        }
      ],
      "source": [
        "print(storage[2])"
      ]
    },
    {
      "cell_type": "markdown",
      "metadata": {
        "id": "6dF3nHgpHSRM"
      },
      "source": [
        "Try to change it to 678"
      ]
    },
    {
      "cell_type": "code",
      "source": [],
      "metadata": {
        "id": "j8IE03XOx8tf"
      },
      "execution_count": 35,
      "outputs": []
    },
    {
      "cell_type": "code",
      "execution_count": 36,
      "metadata": {
        "id": "H3YOFLOpHD5y",
        "colab": {
          "base_uri": "https://localhost:8080/"
        },
        "outputId": "f81953e5-d686-4d1a-b0c4-9edfdad39f7f"
      },
      "outputs": [
        {
          "output_type": "stream",
          "name": "stdout",
          "text": [
            "[746, 383, 678, 111]\n"
          ]
        }
      ],
      "source": [
        "#write your code here\n",
        "storage_list=list(storage)\n",
        "storage_list[2]=678\n",
        "storage= tuple(storage_list)\n",
        "print(storage_list)\n",
        "\n"
      ]
    },
    {
      "cell_type": "markdown",
      "metadata": {
        "id": "4lxu3ggkHY6w"
      },
      "source": [
        "##Dictionary\n",
        "\n",
        "Let's say we want to story attributes for a single laptop\n",
        "\n"
      ]
    },
    {
      "cell_type": "code",
      "execution_count": 37,
      "metadata": {
        "id": "uTSpSoV0H0dB",
        "colab": {
          "base_uri": "https://localhost:8080/"
        },
        "outputId": "63ece232-b387-4007-fbef-ebc5ba54420f"
      },
      "outputs": [
        {
          "output_type": "stream",
          "name": "stdout",
          "text": [
            "{'Brand': 'LG', 'Price': 3879, 'Sold': False}\n"
          ]
        }
      ],
      "source": [
        "attributes = {\n",
        "    'Brand':'LG',\n",
        "    'Price':3879,\n",
        "    'Sold':False\n",
        "}\n",
        "\n",
        "print(attributes)"
      ]
    },
    {
      "cell_type": "markdown",
      "metadata": {
        "id": "ctZkZIQnIMx5"
      },
      "source": [
        "Now, try to change its price to 4563\n"
      ]
    },
    {
      "cell_type": "code",
      "execution_count": 38,
      "metadata": {
        "id": "gTPM7oCXIRYH",
        "colab": {
          "base_uri": "https://localhost:8080/"
        },
        "outputId": "97808b5c-de35-49b6-9e70-39364deead13"
      },
      "outputs": [
        {
          "output_type": "stream",
          "name": "stdout",
          "text": [
            "{'Brand': 'LG', 'Price': 4563, 'Sold': False}\n"
          ]
        }
      ],
      "source": [
        "attributes['Price'] = 4563\n",
        "print(attributes)"
      ]
    },
    {
      "cell_type": "markdown",
      "metadata": {
        "id": "TnlcSqnLIdHD"
      },
      "source": [
        "We can use Dictionary to store all products data."
      ]
    },
    {
      "cell_type": "code",
      "execution_count": 39,
      "metadata": {
        "id": "SAObDDp9JAC3",
        "colab": {
          "base_uri": "https://localhost:8080/"
        },
        "outputId": "88ce69d1-000d-46de-db30-b3d37c200071"
      },
      "outputs": [
        {
          "output_type": "stream",
          "name": "stdout",
          "text": [
            "{'Brand': ['Apple', 'Huawi', 'Samsung', 'DELL'], 'Price': [5870, 3004, 4870, 2070]}\n"
          ]
        }
      ],
      "source": [
        "laptops = {\n",
        "    'Brand':brand_list,\n",
        "    'Price':price_list\n",
        "}\n",
        "\n",
        "print(laptops)"
      ]
    },
    {
      "cell_type": "markdown",
      "metadata": {
        "id": "DWwnPeWHJZ2e"
      },
      "source": [
        "#Conditional Statements\n",
        "\n",
        "Check if the price of the laptops is suitable for the customer."
      ]
    },
    {
      "cell_type": "code",
      "execution_count": 42,
      "metadata": {
        "colab": {
          "base_uri": "https://localhost:8080/"
        },
        "id": "d2gdDY5DJua3",
        "outputId": "0f86e726-b438-453c-eeb8-c2b88416f158"
      },
      "outputs": [
        {
          "output_type": "stream",
          "name": "stdout",
          "text": [
            "Enter your balance:3004\n",
            "you cannnot buy the laptop\n"
          ]
        }
      ],
      "source": [
        "balance = int(input('Enter your balance:'))\n",
        "\n",
        "if price <= balance:\n",
        "  print('you can buy the laptop')\n",
        "else:\n",
        "  print('you cannnot buy the laptop')"
      ]
    },
    {
      "cell_type": "code",
      "execution_count": null,
      "metadata": {
        "id": "GR0JELYCKD21"
      },
      "outputs": [],
      "source": []
    },
    {
      "cell_type": "markdown",
      "metadata": {
        "id": "RTJHbSK-KNhw"
      },
      "source": [
        "# Loops"
      ]
    },
    {
      "cell_type": "code",
      "execution_count": 43,
      "metadata": {
        "colab": {
          "base_uri": "https://localhost:8080/"
        },
        "id": "9Serk6iMKQaV",
        "outputId": "e15ccf56-f5e0-4483-e3e4-8d731dd91913"
      },
      "outputs": [
        {
          "output_type": "stream",
          "name": "stdout",
          "text": [
            "Apple\n",
            "Huawi\n",
            "Samsung\n",
            "DELL\n"
          ]
        }
      ],
      "source": [
        "for laptop_brand in brand_list:\n",
        " print(laptop_brand)"
      ]
    },
    {
      "cell_type": "markdown",
      "metadata": {
        "id": "-VadbUEdLI6i"
      },
      "source": [
        "#Functions"
      ]
    },
    {
      "cell_type": "code",
      "execution_count": 45,
      "metadata": {
        "id": "PkwwWz_FLy5k"
      },
      "outputs": [],
      "source": [
        "def print_Hello_World():\n",
        "  print('Hello World!')\n",
        "\n"
      ]
    },
    {
      "cell_type": "code",
      "execution_count": 46,
      "metadata": {
        "colab": {
          "base_uri": "https://localhost:8080/"
        },
        "id": "IHPypOuJMid-",
        "outputId": "e336df1b-8b8e-40ce-de31-6995fe77f21f"
      },
      "outputs": [
        {
          "output_type": "stream",
          "name": "stdout",
          "text": [
            "Hello World!\n"
          ]
        }
      ],
      "source": [
        " #call the function\n",
        "\n",
        "print_Hello_World()"
      ]
    },
    {
      "cell_type": "code",
      "execution_count": 47,
      "metadata": {
        "id": "N09__MM7MzTn"
      },
      "outputs": [],
      "source": [
        "def print_hello_name(name):\n",
        "  print('Hello', name)"
      ]
    },
    {
      "cell_type": "code",
      "execution_count": 48,
      "metadata": {
        "colab": {
          "base_uri": "https://localhost:8080/"
        },
        "id": "s6Bpe6MTNG3k",
        "outputId": "93c9d6d4-55e8-40fd-e27b-3dda2cae4ef3"
      },
      "outputs": [
        {
          "output_type": "stream",
          "name": "stdout",
          "text": [
            "Hello Areej\n"
          ]
        }
      ],
      "source": [
        "#call the function\n",
        "print_hello_name('Areej')"
      ]
    },
    {
      "cell_type": "code",
      "execution_count": 50,
      "metadata": {
        "colab": {
          "base_uri": "https://localhost:8080/"
        },
        "id": "GnHEi-JSXbaA",
        "outputId": "606c66c5-7bb8-42f6-c946-584fabaa9074"
      },
      "outputs": [
        {
          "output_type": "execute_result",
          "data": {
            "text/plain": [
              "1778.0"
            ]
          },
          "metadata": {},
          "execution_count": 50
        }
      ],
      "source": [
        "def discounted_price(discount, price):\n",
        "  return price - (discount*price)\n",
        "\n",
        "discounted_price(0.5,3556)"
      ]
    },
    {
      "cell_type": "markdown",
      "metadata": {
        "id": "Xx-cMJ7bleKa"
      },
      "source": [
        "##Positional Arguments\n",
        "\n",
        "You can pass any number of arguments using *"
      ]
    },
    {
      "cell_type": "code",
      "execution_count": 51,
      "metadata": {
        "colab": {
          "base_uri": "https://localhost:8080/"
        },
        "id": "vl0-Yh6uX1aI",
        "outputId": "ede59333-df02-47d2-bb9c-f2dfbc29e526"
      },
      "outputs": [
        {
          "output_type": "execute_result",
          "data": {
            "text/plain": [
              "6610"
            ]
          },
          "metadata": {},
          "execution_count": 51
        }
      ],
      "source": [
        "def find_total(*prices):\n",
        "  total = 0\n",
        "  for price in prices:\n",
        "    total += price\n",
        "\n",
        "  return total\n",
        "\n",
        "find_total(46,3736,2828)"
      ]
    },
    {
      "cell_type": "markdown",
      "metadata": {
        "id": "Xs-STWZOloWv"
      },
      "source": [
        "#Keyword Arguments\n",
        "You can give an argument a default value. Key arguments must come after positional arguments\n",
        "\n"
      ]
    },
    {
      "cell_type": "code",
      "execution_count": 52,
      "metadata": {
        "colab": {
          "base_uri": "https://localhost:8080/"
        },
        "id": "b3TNXHqbYhhI",
        "outputId": "bac99f1e-1ef1-4d64-96f8-baa978392ae2"
      },
      "outputs": [
        {
          "output_type": "stream",
          "name": "stdout",
          "text": [
            "105\n"
          ]
        },
        {
          "output_type": "execute_result",
          "data": {
            "text/plain": [
              "84.0"
            ]
          },
          "metadata": {},
          "execution_count": 52
        }
      ],
      "source": [
        "def find_total_after_discount(*cost,discount = 0.50):\n",
        "  total=0\n",
        "  for c in cost:\n",
        "        total += c\n",
        "  print(total)\n",
        "\n",
        "  total = total - (total*discount)\n",
        "\n",
        "  return total\n",
        "\n",
        "find_total_after_discount(30,20,30,25,discount=0.20)"
      ]
    },
    {
      "cell_type": "markdown",
      "metadata": {
        "id": "OEqxjrQfqj3j"
      },
      "source": [
        "#We are done!"
      ]
    },
    {
      "cell_type": "code",
      "execution_count": null,
      "metadata": {
        "id": "ou89cpL_nF1u"
      },
      "outputs": [],
      "source": []
    }
  ],
  "metadata": {
    "colab": {
      "provenance": [],
      "include_colab_link": true
    },
    "kernelspec": {
      "display_name": "Python 3",
      "name": "python3"
    },
    "language_info": {
      "name": "python"
    }
  },
  "nbformat": 4,
  "nbformat_minor": 0
}